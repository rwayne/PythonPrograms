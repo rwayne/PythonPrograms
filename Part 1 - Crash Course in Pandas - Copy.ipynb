{
 "cells": [
  {
   "cell_type": "markdown",
   "metadata": {},
   "source": [
    "# Crash Course in Pandas\n",
    "\n",
    "[Pandas](http://pandas.pydata.org) is a very popular Python package that provides data structures and data analysis tools.  It includes tools for reading and writing various data formats, processing data sets in an efficient DataFrame object, and the ability to reshape, filter, index, and subset data easily.\n",
    "\n",
    "This notebook is a quick introduction to some of the features of the Pandas package."
   ]
  },
  {
   "cell_type": "markdown",
   "metadata": {},
   "source": [
    "## Reading Data into DataFrames\n",
    "\n",
    "The primary data structure in the Pandas package is the DataFrame.  A DataFrame is a table-like object that contains named columns of data.  Pandas provides readers for many different file types including CSV, Excel, SAS, HTML, etc.  Since CSV is such a common format, let's look at reading a CSV file into a Pandas DataFrame.\n",
    "\n",
    "First, we need to import the Pandas package.  A very common convention is to import Pandas using a shortcut named of 'pd'.  This is done with the following line."
   ]
  },
  {
   "cell_type": "code",
   "execution_count": null,
   "metadata": {
    "collapsed": true
   },
   "outputs": [],
   "source": [
    "import pandas as pd"
   ]
  },
  {
   "cell_type": "markdown",
   "metadata": {},
   "source": [
    "The function that reads CSV files into DataFrames is called ``read_csv``.  In the simplest form, you just supply it with a filename or URL.  We have the SAS cars data set stored in github that we can point to directly.  We'll use the ``head`` method to display just the first few records."
   ]
  },
  {
   "cell_type": "code",
   "execution_count": null,
   "metadata": {
    "collapsed": false
   },
   "outputs": [],
   "source": [
    "df = pd.read_csv('https://raw.githubusercontent.com/'\n",
    "                 'sassoftware/sas-viya-programming/master/data/cars.csv')\n",
    "df.head()"
   ]
  },
  {
   "cell_type": "markdown",
   "metadata": {},
   "source": [
    "There are many more Pandas data readers that you read about on the [Pandas web site](http://pandas.pydata.org/pandas-docs/stable/io.html)."
   ]
  },
  {
   "cell_type": "markdown",
   "metadata": {},
   "source": [
    "### Displaying Information about DataFrames\n",
    "\n",
    "We have displayed the DataFrame above.  We can get more information about the DataFrame using various properties and methods.\n",
    "\n",
    "The list of column names can be displayed using the ``columns`` property."
   ]
  },
  {
   "cell_type": "code",
   "execution_count": null,
   "metadata": {
    "collapsed": false
   },
   "outputs": [],
   "source": [
    "df.columns"
   ]
  },
  {
   "cell_type": "markdown",
   "metadata": {},
   "source": [
    "The data types of the columns can be displayed using the ``dtypes`` property."
   ]
  },
  {
   "cell_type": "code",
   "execution_count": null,
   "metadata": {
    "collapsed": false
   },
   "outputs": [],
   "source": [
    "df.dtypes"
   ]
  },
  {
   "cell_type": "markdown",
   "metadata": {},
   "source": [
    "For general information about the DataFrame as a whole, you can use the ``info`` method."
   ]
  },
  {
   "cell_type": "code",
   "execution_count": null,
   "metadata": {
    "collapsed": false
   },
   "outputs": [],
   "source": [
    "df.info()"
   ]
  },
  {
   "cell_type": "markdown",
   "metadata": {},
   "source": [
    "Now that we know more about the columns and their data types, we can move on to subsetting DataFrames into other DataFrames or columns."
   ]
  },
  {
   "cell_type": "markdown",
   "metadata": {},
   "source": [
    "## Subsetting DataFrames\n",
    "\n",
    "You can select columns from a DataFrame to create a DataFrame with fewer columns, or you can select a single column of data into a Series.  The syntax used for this operation is Python's indexing syntax ``[...]``.\n",
    "\n",
    "If you index into a DataFrame using just the name of a column, you will get a Series back.  If you index into a DataFrame using a list of names, you will get a DataFrame back."
   ]
  },
  {
   "cell_type": "code",
   "execution_count": null,
   "metadata": {
    "collapsed": false
   },
   "outputs": [],
   "source": [
    "subdf = df[['Make', 'Model', 'Horsepower']]\n",
    "subdf.head()"
   ]
  },
  {
   "cell_type": "code",
   "execution_count": null,
   "metadata": {
    "collapsed": false
   },
   "outputs": [],
   "source": [
    "model = df['Model']\n",
    "model.head()"
   ]
  },
  {
   "cell_type": "markdown",
   "metadata": {},
   "source": [
    "In addition to selecting columns of data, DataFrames have more advanced ways of selecting data.  We'll look at that in the next section."
   ]
  },
  {
   "cell_type": "markdown",
   "metadata": {},
   "source": [
    "### Row Indexing\n",
    "\n",
    "Pandas DataFrames have an index associated both with rows and columns.  We have seen the column index in the ``columns`` property above.  We have also indexed into that collection using the column names.  You can also index rows by position and label using the ``iloc`` and ``loc`` properties, respectively.\n",
    "\n",
    "Currently, our cars DataFrame only has numeric row indexes, it doesn't have labels, so we'll start with ``iloc``."
   ]
  },
  {
   "cell_type": "code",
   "execution_count": null,
   "metadata": {
    "collapsed": false
   },
   "outputs": [],
   "source": [
    "df.iloc[3:7]"
   ]
  },
  {
   "cell_type": "markdown",
   "metadata": {},
   "source": [
    "As you can see above, we selected the row indexs from 3 to 7.  In Python, numeric slices such as this include the first index, but do not include the last index.  That is why you see row indexes 3, 4, 5, and 6 only in the result.\n",
    "\n",
    "You can also select rows using a list of row indexes."
   ]
  },
  {
   "cell_type": "code",
   "execution_count": null,
   "metadata": {
    "collapsed": false
   },
   "outputs": [],
   "source": [
    "df.iloc[[4, 5, 10]]"
   ]
  },
  {
   "cell_type": "markdown",
   "metadata": {},
   "source": [
    "Arguably a more useful way of indexing Pandas DataFrames is using row labels.  We can set a column as a row index using the ``set_index`` method.  Then we can use those labels in the ``loc`` property for easy data selection."
   ]
  },
  {
   "cell_type": "code",
   "execution_count": null,
   "metadata": {
    "collapsed": true
   },
   "outputs": [],
   "source": [
    "df = df.set_index('Model')"
   ]
  },
  {
   "cell_type": "code",
   "execution_count": null,
   "metadata": {
    "collapsed": false
   },
   "outputs": [],
   "source": [
    "df.head()"
   ]
  },
  {
   "cell_type": "markdown",
   "metadata": {},
   "source": [
    "You'll see in the output above that the Model column is now displayed as a row index.  We can use the values in that index in the ``loc`` property.  This includes both single values, lists of values, or slices."
   ]
  },
  {
   "cell_type": "code",
   "execution_count": null,
   "metadata": {
    "collapsed": false
   },
   "outputs": [],
   "source": [
    "df.loc['MDX']"
   ]
  },
  {
   "cell_type": "code",
   "execution_count": null,
   "metadata": {
    "collapsed": false
   },
   "outputs": [],
   "source": [
    "df.loc[['TSX 4dr', 'TL 4dr']]"
   ]
  },
  {
   "cell_type": "code",
   "execution_count": null,
   "metadata": {
    "collapsed": false
   },
   "outputs": [],
   "source": [
    "df.loc['MDX':'TL 4dr']"
   ]
  },
  {
   "cell_type": "markdown",
   "metadata": {},
   "source": [
    "Note that when using slicing on labels, the endpoint for the slice is included.  This is different than for row indexes."
   ]
  },
  {
   "cell_type": "markdown",
   "metadata": {},
   "source": [
    "### Indexing Both Rows and Columns\n",
    "\n",
    "The ``iloc`` and ``loc`` properties can be used to subset both rows and columns simultaneously.  However, the ``iloc`` property must only contain positional row and column index information, and ``loc`` must only contain row and column labels."
   ]
  },
  {
   "cell_type": "code",
   "execution_count": null,
   "metadata": {
    "collapsed": false
   },
   "outputs": [],
   "source": [
    "df.iloc[1:5, 3:6]"
   ]
  },
  {
   "cell_type": "code",
   "execution_count": null,
   "metadata": {
    "collapsed": false
   },
   "outputs": [],
   "source": [
    "df.loc['MDX':'TL 4dr', 'MSRP':'Horsepower']"
   ]
  },
  {
   "cell_type": "markdown",
   "metadata": {},
   "source": [
    "If you want to mix positional and label information between rows and columns, you need to use the ``ix`` property."
   ]
  },
  {
   "cell_type": "code",
   "execution_count": null,
   "metadata": {
    "collapsed": false
   },
   "outputs": [],
   "source": [
    "df.ix[2:6, 'MSRP':'Cylinders']"
   ]
  },
  {
   "cell_type": "markdown",
   "metadata": {},
   "source": [
    "Of course, the ``ix`` property also supports single values, lists of values, and slices for each component."
   ]
  },
  {
   "cell_type": "code",
   "execution_count": null,
   "metadata": {
    "collapsed": false
   },
   "outputs": [],
   "source": [
    "df.ix[[1,2,5], ['Make', 'MSRP', 'Horsepower']]"
   ]
  },
  {
   "cell_type": "markdown",
   "metadata": {},
   "source": [
    "### Boolean Indexing\n",
    "\n",
    "A more dynamic way of indexing DataFrames is to use boolean indexing.  Rather than specifying explicit values for the index, we will use an expression to indicate which rows we want to select.  The expression creates a boolean Series which indicates the rows to keep.  Here is an example of a boolean series created by comparing the MSRP column to 40000."
   ]
  },
  {
   "cell_type": "code",
   "execution_count": null,
   "metadata": {
    "collapsed": false
   },
   "outputs": [],
   "source": [
    "df['MSRP'] > 40000"
   ]
  },
  {
   "cell_type": "markdown",
   "metadata": {},
   "source": [
    "As you can see, the values of the Series are all True or False.  If we use that condition as an index value of a DataFrame, we'll get a new DataFrame containing only the rows where the condition was true."
   ]
  },
  {
   "cell_type": "code",
   "execution_count": null,
   "metadata": {
    "collapsed": false
   },
   "outputs": [],
   "source": [
    "df[df['MSRP'] > 40000].head()"
   ]
  },
  {
   "cell_type": "markdown",
   "metadata": {},
   "source": [
    "You can combine conditions using ``&`` for \"and\" and ``|`` for \"or\".  For example, if we wanted cars that had an MSRP greater than $40,000, but also had 8 or more Cylinders, we could do the following.  Note that due to the order of precedence of comparison and combination operatiors, you need to surround your comparions with parentheses."
   ]
  },
  {
   "cell_type": "code",
   "execution_count": null,
   "metadata": {
    "collapsed": false
   },
   "outputs": [],
   "source": [
    "df[(df['MSRP'] > 40000) & (df['Cylinders'] > 8)].head()"
   ]
  },
  {
   "cell_type": "markdown",
   "metadata": {},
   "source": [
    "## Sorting\n",
    "\n",
    "Sorting in Pandas DataFrames can be done according to the index or column values.  The methods used to sort a DataFrame are ``sort_index`` for sorting by the index and ``sort_values`` for sorting by the data values.\n",
    "\n",
    "Since we still have our index set as Model, let's sort by that first."
   ]
  },
  {
   "cell_type": "code",
   "execution_count": null,
   "metadata": {
    "collapsed": false
   },
   "outputs": [],
   "source": [
    "df.sort_index().head()"
   ]
  },
  {
   "cell_type": "markdown",
   "metadata": {},
   "source": [
    "Sorting by values is done by specify the columns that you want to sort by."
   ]
  },
  {
   "cell_type": "code",
   "execution_count": null,
   "metadata": {
    "collapsed": false
   },
   "outputs": [],
   "source": [
    "df.sort_values(['MSRP', 'Horsepower']).head()"
   ]
  },
  {
   "cell_type": "markdown",
   "metadata": {},
   "source": [
    "You can also use the ``ascending=`` option to specify the order in which the columns should be sorted."
   ]
  },
  {
   "cell_type": "code",
   "execution_count": null,
   "metadata": {
    "collapsed": false
   },
   "outputs": [],
   "source": [
    "df.sort_values(['MSRP', 'Horsepower'], ascending=[False, True]).head()"
   ]
  },
  {
   "cell_type": "markdown",
   "metadata": {},
   "source": [
    "Keep in mind that the ``sort_index`` and ``sort_values`` methods return a new DataFrame with the sorting applied.  If you want to sort a DataFrame in place, you need to specify the ``inplace=True`` option."
   ]
  },
  {
   "cell_type": "markdown",
   "metadata": {},
   "source": [
    "Let's reset the index before moving on to the next sections."
   ]
  },
  {
   "cell_type": "code",
   "execution_count": null,
   "metadata": {
    "collapsed": true
   },
   "outputs": [],
   "source": [
    "df.reset_index(inplace=True)"
   ]
  },
  {
   "cell_type": "markdown",
   "metadata": {
    "collapsed": true
   },
   "source": [
    "## Doing Simple Statistics\n",
    "\n",
    "Pandas DataFrames have many builtin methods for doing simple statistics.  Probably the most common one is ``describe``.  It computes various basic statistics for the entire DataFrame."
   ]
  },
  {
   "cell_type": "code",
   "execution_count": null,
   "metadata": {
    "collapsed": false
   },
   "outputs": [],
   "source": [
    "df.describe()"
   ]
  },
  {
   "cell_type": "markdown",
   "metadata": {},
   "source": [
    "The ``describe`` method has a couple of options to select different columns of data (``include=``) and the percentiles to compute (``percentiles=``).  In the example below, we are selecting all of the columns and changing the displayed percentiles to 30% and 70% (50% is always displayed)."
   ]
  },
  {
   "cell_type": "code",
   "execution_count": null,
   "metadata": {
    "collapsed": false
   },
   "outputs": [],
   "source": [
    "df.describe(include='all', percentiles=[0.3, 0.7])"
   ]
  },
  {
   "cell_type": "markdown",
   "metadata": {},
   "source": [
    "You can also select individual statistics using their own methods."
   ]
  },
  {
   "cell_type": "code",
   "execution_count": null,
   "metadata": {
    "collapsed": false
   },
   "outputs": [],
   "source": [
    "df.min()"
   ]
  },
  {
   "cell_type": "code",
   "execution_count": null,
   "metadata": {
    "collapsed": false
   },
   "outputs": [],
   "source": [
    "df.median()"
   ]
  },
  {
   "cell_type": "markdown",
   "metadata": {},
   "source": [
    "All of the above methods also work on individual columns, or subsets of columns."
   ]
  },
  {
   "cell_type": "code",
   "execution_count": null,
   "metadata": {
    "collapsed": false
   },
   "outputs": [],
   "source": [
    "df['MSRP'].describe()"
   ]
  },
  {
   "cell_type": "code",
   "execution_count": null,
   "metadata": {
    "collapsed": false
   },
   "outputs": [],
   "source": [
    "df['MSRP'].min()"
   ]
  },
  {
   "cell_type": "code",
   "execution_count": null,
   "metadata": {
    "collapsed": false
   },
   "outputs": [],
   "source": [
    "df[['MSRP', 'Horsepower']].describe()"
   ]
  },
  {
   "cell_type": "markdown",
   "metadata": {},
   "source": [
    "## Grouping Data\n",
    "\n",
    "Another common operation in analyzing data is grouping by variable values.  This is primarily done using the ``groupby`` method of DataFrames."
   ]
  },
  {
   "cell_type": "code",
   "execution_count": null,
   "metadata": {
    "collapsed": false
   },
   "outputs": [],
   "source": [
    "grpdf = df.groupby('Origin')\n",
    "grpdf"
   ]
  },
  {
   "cell_type": "markdown",
   "metadata": {},
   "source": [
    "You'll notice that in this case the returned value is a ``DataFrameGroupBy`` object.  Many of the methods available on a DataFrame will also work on the ``DataFrameGroupBy`` object."
   ]
  },
  {
   "cell_type": "code",
   "execution_count": null,
   "metadata": {
    "collapsed": false
   },
   "outputs": [],
   "source": [
    "grpdf.describe()"
   ]
  },
  {
   "cell_type": "code",
   "execution_count": null,
   "metadata": {
    "collapsed": false
   },
   "outputs": [],
   "source": [
    "grpdf[['MSRP', 'Horsepower']].describe(percentiles=[0.2, 0.8])"
   ]
  },
  {
   "cell_type": "markdown",
   "metadata": {},
   "source": [
    "It is also possible to loop through all of the groupings using iteration in Python."
   ]
  },
  {
   "cell_type": "code",
   "execution_count": null,
   "metadata": {
    "collapsed": false,
    "scrolled": false
   },
   "outputs": [],
   "source": [
    "for name, group in grpdf:\n",
    "    print('=' * 35, name, '=' * 35)\n",
    "    print('')\n",
    "    print(group.head())\n",
    "    print('')"
   ]
  },
  {
   "cell_type": "markdown",
   "metadata": {},
   "source": [
    "There are far too many grouping features in Pandas to cover here.  For more information, see the [Pandas Group By documentation](http://pandas.pydata.org/pandas-docs/stable/groupby.html)."
   ]
  },
  {
   "cell_type": "markdown",
   "metadata": {},
   "source": [
    "## Plotting\n",
    "\n",
    "There are several packages for creating plots in Python.  These include [matplotlib](http://matplotlib.org), [seaborn](https://stanford.edu/~mwaskom/software/seaborn/), [bokeh](http://bokeh.pydata.org/en/latest/), [plot.ly](https://plot.ly), or even Pandas itself.  Many of these packages such as seaborn and the Pandas plotting features use matplotlib in the background.  Packages like bokeh and plot.ly are primarily focused on graphics that are rendered in a web browser.\n",
    "\n",
    "The most basic plotting features can be accessed in the ``plot`` method of the DataFrame.  To start, we can create a scatter plot of the MSRP values."
   ]
  },
  {
   "cell_type": "code",
   "execution_count": null,
   "metadata": {
    "collapsed": true
   },
   "outputs": [],
   "source": [
    "%matplotlib inline"
   ]
  },
  {
   "cell_type": "code",
   "execution_count": null,
   "metadata": {
    "collapsed": false
   },
   "outputs": [],
   "source": [
    "df.plot(kind='scatter', x='MSRP', y='Horsepower', figsize=(12,6))"
   ]
  },
  {
   "cell_type": "markdown",
   "metadata": {},
   "source": [
    "Using the cufflinks package, which is a DataFrame-style interface to plot.ly, we can create a graph that is rendered in the browser and includes interactive features."
   ]
  },
  {
   "cell_type": "code",
   "execution_count": null,
   "metadata": {
    "collapsed": false
   },
   "outputs": [],
   "source": [
    "import cufflinks\n",
    "\n",
    "# Configure cufflinks to render the graph locally.\n",
    "cufflinks.go_offline()\n",
    "\n",
    "df.iplot(kind='scatter', x='MSRP', y='Horsepower', mode='markers', \n",
    "         size=8, dimensions=(750, 400))"
   ]
  },
  {
   "cell_type": "markdown",
   "metadata": {},
   "source": [
    "For more information on plotting features of DataFrames, see the [Pandas Visualization documentation](http://pandas.pydata.org/pandas-docs/stable/visualization.html)."
   ]
  },
  {
   "cell_type": "markdown",
   "metadata": {},
   "source": [
    "## Conclusion\n",
    "\n",
    "We've just covered the very basics of the Pandas package here.  You should have enough to get started, but for more information, you should [see the official documentation](http://pandas.pydata.org/pandas-docs/stable/)."
   ]
  }
 ],
 "metadata": {
  "kernelspec": {
   "display_name": "Python [Root]",
   "language": "python",
   "name": "Python [Root]"
  },
  "language_info": {
   "codemirror_mode": {
    "name": "ipython",
    "version": 3
   },
   "file_extension": ".py",
   "mimetype": "text/x-python",
   "name": "python",
   "nbconvert_exporter": "python",
   "pygments_lexer": "ipython3",
   "version": "3.5.2"
  }
 },
 "nbformat": 4,
 "nbformat_minor": 0
}
